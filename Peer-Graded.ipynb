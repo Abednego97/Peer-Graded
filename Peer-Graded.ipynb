{
 "cells": [
  {
   "cell_type": "markdown",
   "id": "76be42cf",
   "metadata": {},
   "source": [
    "# My Jupyter Notebook on IBM Watson Studio"
   ]
  },
  {
   "cell_type": "markdown",
   "id": "656b6c0c",
   "metadata": {},
   "source": [
    "**Abednego**\n",
    "Student"
   ]
  },
  {
   "cell_type": "markdown",
   "id": "f4abf757",
   "metadata": {},
   "source": [
    "*I am interested in data science because I am curious about it*"
   ]
  },
  {
   "cell_type": "markdown",
   "id": "05598503",
   "metadata": {},
   "source": [
    "### My Code in cell block five is going to substract 2 from 8 and then print out the outcome."
   ]
  },
  {
   "cell_type": "code",
   "execution_count": 2,
   "id": "20544fdb",
   "metadata": {},
   "outputs": [
    {
     "name": "stdout",
     "output_type": "stream",
     "text": [
      "-6\n"
     ]
    }
   ],
   "source": [
    "def addNum(a,b):\n",
    "    c = a - b\n",
    "    return c\n",
    "print(addNum(2,8))"
   ]
  },
  {
   "cell_type": "markdown",
   "id": "ab08f587",
   "metadata": {},
   "source": [
    "~~strikethrough~~\n",
    "\n",
    "1. First number\n",
    "2. Seceond number\n",
    "3. Third number\n",
    "\n",
    "[I am a hyperlink](https://www.google.com)"
   ]
  },
  {
   "cell_type": "code",
   "execution_count": null,
   "id": "8b258246",
   "metadata": {},
   "outputs": [],
   "source": []
  }
 ],
 "metadata": {
  "kernelspec": {
   "display_name": "Python 3 (ipykernel)",
   "language": "python",
   "name": "python3"
  },
  "language_info": {
   "codemirror_mode": {
    "name": "ipython",
    "version": 3
   },
   "file_extension": ".py",
   "mimetype": "text/x-python",
   "name": "python",
   "nbconvert_exporter": "python",
   "pygments_lexer": "ipython3",
   "version": "3.9.7"
  }
 },
 "nbformat": 4,
 "nbformat_minor": 5
}
